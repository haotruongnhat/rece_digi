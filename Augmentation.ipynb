{
 "cells": [
  {
   "cell_type": "markdown",
   "metadata": {},
   "source": [
    "### Data augmentation initialization"
   ]
  },
  {
   "cell_type": "code",
   "execution_count": 2,
   "metadata": {},
   "outputs": [],
   "source": [
    "import cv2\n",
    "from tqdm import tqdm\n",
    "from pathlib import Path\n",
    "import notebook_utils as nutils\n",
    "import albumentations as A\n",
    "import shutil\n",
    "import numpy as np\n",
    "### Augment one file\n",
    "\n",
    "def augment_file(file_path, output_dir, aug_transform, num_samples=20):\n",
    "    image = cv2.imread(str(file_path))\n",
    "    image = cv2.cvtColor(image, cv2.COLOR_BGR2RGB) \n",
    "    \n",
    "    if not file_path.with_suffix('.txt').is_file():\n",
    "        return\n",
    "    \n",
    "    # Copy original file\n",
    "    shutil.copyfile(str(file_path), str(Path(output_dir) / file_path.name))\n",
    "    shutil.copyfile(str(file_path.with_suffix('.txt')), str(Path(output_dir) / file_path.with_suffix('.txt').name))\n",
    "    \n",
    "    with open(str(file_path.with_suffix('.txt')), 'r') as f:\n",
    "        lines = f.readlines()\n",
    "\n",
    "    keypoints = []\n",
    "\n",
    "    for line in lines:\n",
    "        splitted_line = line.strip().lower().split(',')\n",
    "        x1, y1, x2, y2, x3, y3, x4, y4 = map(float, splitted_line[:8])\n",
    "\n",
    "        keypoints.append((x1, y1))\n",
    "        keypoints.append((x2, y2))\n",
    "        keypoints.append((x3, y3))\n",
    "        keypoints.append((x4, y4))\n",
    "\n",
    "    times = 1\n",
    "\n",
    "    data = Path(output_dir)\n",
    "    image_name = file_path.stem\n",
    "\n",
    "    while (times < num_samples):\n",
    "        transformed = aug_transform(image=image, keypoints=keypoints)\n",
    "        trans_p = np.array(transformed['keypoints'])\n",
    "\n",
    "        if len(keypoints) != len(trans_p):\n",
    "            pass\n",
    "        else:\n",
    "            bboxes = trans_p.reshape(int(trans_p.shape[0] / 4), 4, 2)\n",
    "            \n",
    "            cv2.imwrite(str(data / \"{}_{}{}\".format(image_name, times, \".jpg\")), transformed['image'])\n",
    "\n",
    "            with open(data / \"{}_{}{}\".format(image_name, times, \".txt\"), \"w\") as f:\n",
    "                for bbox in bboxes.tolist():\n",
    "                    line = []\n",
    "                    for p in bbox:\n",
    "                        line.append(\",\".join([str(int(p[i])) for i in range(len(p))]))\n",
    "\n",
    "                    f.writelines(\",\".join(line) + \"\\r\\n\")\n",
    "\n",
    "#             viz = transformed['image'].copy()\n",
    "#             for bbox in bboxes:\n",
    "#                 cv2.polylines(viz, [bbox.astype(np.int32).reshape((-1, 1, 2))], True, color=(0, 255, 0), thickness=1)\n",
    "            \n",
    "#             cv2.imwrite(str(Path('datasets/SROIE2019/test/viz') / \"{}_{}{}\".format(image_name, times, \".jpg\")), viz)    \n",
    "            \n",
    "        times += 1\n",
    "   "
   ]
  },
  {
   "cell_type": "markdown",
   "metadata": {},
   "source": [
    "### Augment whole folder"
   ]
  },
  {
   "cell_type": "code",
   "execution_count": 3,
   "metadata": {},
   "outputs": [
    {
     "name": "stderr",
     "output_type": "stream",
     "text": [
      "100%|██████████| 712/712 [13:48<00:00,  1.16s/it]\n"
     ]
    }
   ],
   "source": [
    "im_fns = nutils.list_files(\"datasets/SROIE2019/0325updated.task1train(626p)\", \"*.jpg\")\n",
    "output_aug = 'datasets/SROIE2019/task1train/aug'\n",
    "aug_transform = A.Compose(\n",
    "    [A.ShiftScaleRotate(shift_limit=0.0625, scale_limit=0.1, \n",
    "                        rotate_limit=20, interpolation=1, \n",
    "                        border_mode=1, value=None, \n",
    "                        mask_value=None, always_apply=False, \n",
    "                        p=0.8),\n",
    "    A.RGBShift(),\n",
    "    A.RandomBrightnessContrast()], \n",
    "    keypoint_params=A.KeypointParams(format='xy')\n",
    ")\n",
    "\n",
    "for im_fn in tqdm(im_fns):\n",
    "    try:\n",
    "        augment_file(im_fn, output_aug, aug_transform, 20)\n",
    "    except:\n",
    "        pass\n",
    " "
   ]
  }
 ],
 "metadata": {
  "kernelspec": {
   "display_name": "tf",
   "language": "python",
   "name": "tf"
  },
  "language_info": {
   "codemirror_mode": {
    "name": "ipython",
    "version": 3
   },
   "file_extension": ".py",
   "mimetype": "text/x-python",
   "name": "python",
   "nbconvert_exporter": "python",
   "pygments_lexer": "ipython3",
   "version": "3.7.7"
  }
 },
 "nbformat": 4,
 "nbformat_minor": 4
}
